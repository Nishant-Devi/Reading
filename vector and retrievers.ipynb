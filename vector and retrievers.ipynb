{
 "cells": [
  {
   "cell_type": "markdown",
   "id": "994c4ec7-702e-4224-8e2a-16de6da847c5",
   "metadata": {},
   "source": [
    "#### LangChain's vector store and retriever abstractions\n",
    "\n",
    "These abstractions are designed to support retrieval of data-- from (vector) databases and other sources-- for integration with LLM workflows.\n",
    "\n",
    " Retrieval of text data:\n",
    " * Documents\n",
    " * Vector stores\n",
    " * Retrievers\n",
    "\n",
    "langchain, langchain-chroma, and langchain-openai"
   ]
  },
  {
   "cell_type": "markdown",
   "id": "22f8e9e2-5b26-4d6c-a792-b14116ac817c",
   "metadata": {},
   "source": [
    "### Documents\n",
    "\n",
    "LangChain implements a Document abstraction. It has two attributes:\n",
    "* page_content: a string representing the content;\n",
    "* metadata: a dict containing arbitrary metadata.\n",
    "\n",
    "The metadata attribute can capture information about the source of the document, its relationship to other documents, and other information. Note that an individual Document object often represents a chunk of a larger document."
   ]
  },
  {
   "cell_type": "code",
   "execution_count": 1,
   "id": "fe6158cb-20c1-4217-b75a-d5261e0bca6d",
   "metadata": {},
   "outputs": [],
   "source": [
    "# Let's generate some sample documents:\n",
    "from langchain_core.documents import Document\n",
    "\n",
    "documents = [\n",
    "    Document(\n",
    "        page_content=\"Dogs are great companions, known for their loyalty and friendliness.\",\n",
    "        metadata={\"source\": \"mammal-pets-doc\"},\n",
    "    ),\n",
    "    Document(\n",
    "        page_content=\"Cats are independent pets that often enjoy their own space.\",\n",
    "        metadata={\"source\": \"mammal-pets-doc\"},\n",
    "    ),\n",
    "    Document(\n",
    "        page_content=\"Goldfish are popular pets for beginners, requiring relatively simple care.\",\n",
    "        metadata={\"source\": \"fish-pets-doc\"},\n",
    "    ),\n",
    "    Document(\n",
    "        page_content=\"Parrots are intelligent birds capable of mimicking human speech.\",\n",
    "        metadata={\"source\": \"bird-pets-doc\"},\n",
    "    ),\n",
    "    Document(\n",
    "        page_content=\"Rabbits are social animals that need plenty of space to hop around.\",\n",
    "        metadata={\"source\": \"mammal-pets-doc\"},\n",
    "    ),\n",
    "]"
   ]
  },
  {
   "cell_type": "markdown",
   "id": "ceeebd0d-a5c1-473d-9a53-3a5e75387a56",
   "metadata": {},
   "source": [
    "### Vector stores\n",
    "\n",
    "Vector search is a common way to store and search over unstructured data (such as unstructured text). The idea is to store numeric vectors that are associated with the text. Given a query, we can embed it as a vector of the same dimension and use vector similarity metrics to identify related data in the store.\n",
    "\n",
    "LangChain `VectorStore` objects contain methods for adding text and Document objects to the store, and querying them using various similarity metrics. They are often initialized with embedding models, which determine how text data is translated to numeric vectors.\n",
    "\n",
    "LangChain includes a suite of integrations with different vector store technologies. Some vector stores are hosted by a provider, some (such as Postgres) run in separate infrastructure that can be run locally or via a third-party, others can run in-memory for lightweight workloads.\n",
    "\n",
    "LangChain VectorStores using Chroma, which includes an in-memory implementation.\n",
    "\n",
    "To instantiate a vector store, we often need to provide an `embedding model` to specify how text should be converted into a numeric vector: **OpenAI embeddings**"
   ]
  },
  {
   "cell_type": "code",
   "execution_count": 2,
   "id": "7cdfb531-fdfc-4a67-907f-d3ad186fe8b9",
   "metadata": {},
   "outputs": [],
   "source": [
    "from langchain_chroma import Chroma\n",
    "from langchain_openai import OpenAIEmbeddings\n",
    "\n",
    "vectorstore = Chroma.from_documents(\n",
    "    documents,\n",
    "    embedding=OpenAIEmbeddings(api_key=\"your_api_key\"),\n",
    ")"
   ]
  },
  {
   "cell_type": "markdown",
   "id": "cd1884c1-ebc0-403c-bebe-3300883edd70",
   "metadata": {},
   "source": [
    "* Calling `.from_documents` here will add the documents to the vector store.\n",
    "* `VectorStore` implements methods for adding documents that can also be called after the object is instantiated.\n",
    "* Once we've instantiated a VectorStore that contains documents, we can query it. `VectorStore` includes methods for querying:\n",
    "  * Synchronously and asynchronously;\n",
    "  * By string query and by vector;\n",
    "  * With and without returning similarity scores;\n",
    "  * By similarity and maximum marginal relevance (to balance similarity with query to diversity in retrieved results).\n",
    "    \n",
    "* The methods will generally include a list of Document objects in their outputs."
   ]
  },
  {
   "cell_type": "code",
   "execution_count": 3,
   "id": "239b6a15-bddf-4f58-bbc1-d1a212247a74",
   "metadata": {},
   "outputs": [
    {
     "data": {
      "text/plain": [
       "[Document(page_content='Cats are independent pets that often enjoy their own space.', metadata={'source': 'mammal-pets-doc'}),\n",
       " Document(page_content='Dogs are great companions, known for their loyalty and friendliness.', metadata={'source': 'mammal-pets-doc'}),\n",
       " Document(page_content='Rabbits are social animals that need plenty of space to hop around.', metadata={'source': 'mammal-pets-doc'}),\n",
       " Document(page_content='Parrots are intelligent birds capable of mimicking human speech.', metadata={'source': 'bird-pets-doc'})]"
      ]
     },
     "execution_count": 3,
     "metadata": {},
     "output_type": "execute_result"
    }
   ],
   "source": [
    "# Return documents based on similarity to a string query:\n",
    "vectorstore.similarity_search(\"cat\")"
   ]
  },
  {
   "cell_type": "code",
   "execution_count": 5,
   "id": "dd2afe12-8847-4d24-b36e-0c96bd275ba0",
   "metadata": {},
   "outputs": [
    {
     "data": {
      "text/plain": [
       "[Document(page_content='Cats are independent pets that often enjoy their own space.', metadata={'source': 'mammal-pets-doc'}),\n",
       " Document(page_content='Dogs are great companions, known for their loyalty and friendliness.', metadata={'source': 'mammal-pets-doc'}),\n",
       " Document(page_content='Rabbits are social animals that need plenty of space to hop around.', metadata={'source': 'mammal-pets-doc'}),\n",
       " Document(page_content='Parrots are intelligent birds capable of mimicking human speech.', metadata={'source': 'bird-pets-doc'})]"
      ]
     },
     "execution_count": 5,
     "metadata": {},
     "output_type": "execute_result"
    }
   ],
   "source": [
    "# Async query:\n",
    "await vectorstore.asimilarity_search(\"cat\")"
   ]
  },
  {
   "cell_type": "code",
   "execution_count": 6,
   "id": "2fa7166a-dffd-4642-84d7-358bf8e59732",
   "metadata": {},
   "outputs": [
    {
     "data": {
      "text/plain": [
       "[(Document(page_content='Cats are independent pets that often enjoy their own space.', metadata={'source': 'mammal-pets-doc'}),\n",
       "  0.37460917234420776),\n",
       " (Document(page_content='Dogs are great companions, known for their loyalty and friendliness.', metadata={'source': 'mammal-pets-doc'}),\n",
       "  0.4825893044471741),\n",
       " (Document(page_content='Rabbits are social animals that need plenty of space to hop around.', metadata={'source': 'mammal-pets-doc'}),\n",
       "  0.49560976028442383),\n",
       " (Document(page_content='Parrots are intelligent birds capable of mimicking human speech.', metadata={'source': 'bird-pets-doc'}),\n",
       "  0.4973144829273224)]"
      ]
     },
     "execution_count": 6,
     "metadata": {},
     "output_type": "execute_result"
    }
   ],
   "source": [
    "# Return scores:\n",
    "vectorstore.similarity_search_with_score(\"cat\")"
   ]
  },
  {
   "cell_type": "code",
   "execution_count": 8,
   "id": "183de2b2-8d8e-4bcf-87aa-ff0dae85cd5e",
   "metadata": {},
   "outputs": [
    {
     "data": {
      "text/plain": [
       "[Document(page_content='Cats are independent pets that often enjoy their own space.', metadata={'source': 'mammal-pets-doc'}),\n",
       " Document(page_content='Dogs are great companions, known for their loyalty and friendliness.', metadata={'source': 'mammal-pets-doc'}),\n",
       " Document(page_content='Rabbits are social animals that need plenty of space to hop around.', metadata={'source': 'mammal-pets-doc'}),\n",
       " Document(page_content='Parrots are intelligent birds capable of mimicking human speech.', metadata={'source': 'bird-pets-doc'})]"
      ]
     },
     "execution_count": 8,
     "metadata": {},
     "output_type": "execute_result"
    }
   ],
   "source": [
    "# Return documents based on similarity to a embedded query:\n",
    "embedding = OpenAIEmbeddings(api_key = \"your_api_key\").embed_query(\"cat\")\n",
    "\n",
    "vectorstore.similarity_search_by_vector(embedding)"
   ]
  },
  {
   "cell_type": "markdown",
   "id": "1bc55bf8-dece-4cfb-a88a-1c6a5e2d5f1e",
   "metadata": {},
   "source": [
    "### Retrievers\n",
    "\n",
    "* LangChain VectorStore objects do not subclass `Runnable`, and so cannot immediately be integrated into LangChain Expression Language `chains`.\n",
    "* LangChain `Retrievers` are Runnables, so they implement a standard set of methods (e.g., synchronous and asynchronous invoke and batch operations) and are designed to be incorporated in LCEL chains.\n",
    "* We can create a simple version of this ourselves, without subclassing Retriever. If we choose what method we wish to use to retrieve documents, we can create a runnable easily."
   ]
  },
  {
   "cell_type": "code",
   "execution_count": 11,
   "id": "aa9d688b-586d-4114-84c6-bdb7c93c04fd",
   "metadata": {},
   "outputs": [
    {
     "data": {
      "text/plain": [
       "[[Document(page_content='Cats are independent pets that often enjoy their own space.', metadata={'source': 'mammal-pets-doc'})],\n",
       " [Document(page_content='Goldfish are popular pets for beginners, requiring relatively simple care.', metadata={'source': 'fish-pets-doc'})]]"
      ]
     },
     "execution_count": 11,
     "metadata": {},
     "output_type": "execute_result"
    }
   ],
   "source": [
    "from typing import List\n",
    "\n",
    "from langchain_core.documents import Document\n",
    "from langchain_core.runnables import RunnableLambda\n",
    "\n",
    "retriever = RunnableLambda(vectorstore.similarity_search).bind(k=1)  # select top result\n",
    "\n",
    "retriever.batch([\"cat\", \"shark\"])"
   ]
  },
  {
   "cell_type": "markdown",
   "id": "a18e3ece-10f0-4bde-9bed-ed59ddbb27cd",
   "metadata": {},
   "source": [
    "* Vectorstores implement an `as_retriever` method that will generate a Retriever, specifically a `VectorStoreRetriever`.\n",
    "* These retrievers include specific `search_type` and `search_kwargs` attributes that identify what methods of the underlying vector store to call, and how to parameterize them."
   ]
  },
  {
   "cell_type": "code",
   "execution_count": 12,
   "id": "8550ede8-ee3b-4c1b-b7a7-d1dbb8299ea8",
   "metadata": {},
   "outputs": [
    {
     "data": {
      "text/plain": [
       "[[Document(page_content='Cats are independent pets that often enjoy their own space.', metadata={'source': 'mammal-pets-doc'})],\n",
       " [Document(page_content='Goldfish are popular pets for beginners, requiring relatively simple care.', metadata={'source': 'fish-pets-doc'})]]"
      ]
     },
     "execution_count": 12,
     "metadata": {},
     "output_type": "execute_result"
    }
   ],
   "source": [
    "retriever = vectorstore.as_retriever(\n",
    "    search_type=\"similarity\",\n",
    "    search_kwargs={\"k\": 1},\n",
    ")\n",
    "\n",
    "retriever.batch([\"cat\", \"shark\"])"
   ]
  },
  {
   "cell_type": "markdown",
   "id": "2a4abeae-2a98-4d21-a793-a7bc8c5e2692",
   "metadata": {},
   "source": [
    "* VectorStoreRetriever supports search types of \"similarity\" (default), \"mmr\" (maximum marginal relevance, described above), and \"similarity_score_threshold\". We can use the latter to threshold documents output by the retriever by similarity score.\n",
    "* Retrievers can easily be incorporated into more complex applications, such as retrieval-augmented generation (RAG) applications that combine a given question with retrieved context into a prompt for a LLM. "
   ]
  },
  {
   "cell_type": "code",
   "execution_count": 13,
   "id": "e768f76c-fe70-4b47-b05b-4d2e3ea783bf",
   "metadata": {},
   "outputs": [],
   "source": [
    "from langchain_openai import ChatOpenAI\n",
    "\n",
    "llm = ChatOpenAI(model=\"gpt-3.5-turbo-0125\", api_key= \"your_api_key\")"
   ]
  },
  {
   "cell_type": "code",
   "execution_count": 14,
   "id": "010fe234-2ea2-4eb4-a39f-f573ff9c2d12",
   "metadata": {},
   "outputs": [],
   "source": [
    "from langchain_core.prompts import ChatPromptTemplate\n",
    "from langchain_core.runnables import RunnablePassthrough\n",
    "\n",
    "message = \"\"\"\n",
    "Answer this question using the provided context only.\n",
    "\n",
    "{question}\n",
    "\n",
    "Context:\n",
    "{context}\n",
    "\"\"\"\n",
    "\n",
    "prompt = ChatPromptTemplate.from_messages([(\"human\", message)])\n",
    "\n",
    "rag_chain = {\"context\": retriever, \"question\": RunnablePassthrough()} | prompt | llm"
   ]
  },
  {
   "cell_type": "code",
   "execution_count": 15,
   "id": "f19b6cfd-4fe3-49ce-9d66-fd04178f890f",
   "metadata": {},
   "outputs": [
    {
     "name": "stdout",
     "output_type": "stream",
     "text": [
      "Cats are independent pets that often enjoy their own space.\n"
     ]
    }
   ],
   "source": [
    "response = rag_chain.invoke(\"tell me about cats\")\n",
    "\n",
    "print(response.content)"
   ]
  },
  {
   "cell_type": "code",
   "execution_count": null,
   "id": "9a137b6b-4384-4b51-92ec-f7e6f1c0d781",
   "metadata": {},
   "outputs": [],
   "source": []
  }
 ],
 "metadata": {
  "kernelspec": {
   "display_name": "langchain",
   "language": "python",
   "name": "langchain"
  },
  "language_info": {
   "codemirror_mode": {
    "name": "ipython",
    "version": 3
   },
   "file_extension": ".py",
   "mimetype": "text/x-python",
   "name": "python",
   "nbconvert_exporter": "python",
   "pygments_lexer": "ipython3",
   "version": "3.10.9"
  }
 },
 "nbformat": 4,
 "nbformat_minor": 5
}
