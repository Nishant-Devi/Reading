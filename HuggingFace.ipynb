{
 "cells": [
  {
   "cell_type": "markdown",
   "id": "e0bf8fbb-bd95-4585-994e-d7b6e957a774",
   "metadata": {},
   "source": [
    "Langchain Hugging Face: `pip install langchain-huggingface`\n",
    "\n",
    "#### Chat models\n",
    "* We can use the Hugging Face LLM classes or directly use the ChatHuggingFace class.\n",
    "* from langchain_huggingface import ChatHuggingFace\n",
    "#### LLMs\n",
    "* Hugging Face models can be run locally through the HuggingFacePipeline class.\n",
    "* from langchain_huggingface import HuggingFacePipeline\n",
    "#### Embedding Models\n",
    "* from `langchain_huggingface` import `HuggingFaceEmbeddings`\n",
    "* from langchain_community.embeddings import `HuggingFaceInstructEmbeddings`\n",
    "* `HuggingFaceBgeEmbeddings`\n",
    "  * `BGE models` on the HuggingFace are the `best open-source embedding models`. BGE model is created by the `Beijing Academy of Artificial Intelligence (BAAI)`. BAAI is a private non-profit organization engaged in AI research and development.\n",
    "  * from `langchain_community.embeddings` import `HuggingFaceBgeEmbeddings`\n",
    "#### Hugging Face Text Embeddings Inference (TEI)\n",
    "* `Hugging Face Text Embeddings Inference (TEI)` is a toolkit for deploying and serving open-source text embeddings and sequence classification models. TEI enables high-performance extraction for the most popular models, including `FlagEmbedding, Ember, GTE and E5`.\n",
    "\n",
    "We need to install huggingface-hub python package:\n",
    "* `pip install huggingface-hub`\n",
    "* from langchain_community.embeddings import `HuggingFaceHubEmbeddings`\n",
    "\n",
    "#### Document Loaders\n",
    "* Hugging Face dataset\n",
    "  * Hugging Face Hub is home to over 75,000 datasets in more than 100 languages that can be used for a broad range of tasks across NLP, Computer Vision, and Audio. They used for a diverse range of tasks such as translation, automatic speech recognition, and image classification.\n",
    "  * `pip install datasets`\n",
    "  * from `langchain_community.document_loaders.hugging_face_dataset` import `HuggingFaceDatasetLoader`\n",
    "\n",
    "#### Tools\n",
    "* Hugging Face Hub Tools\n",
    "  * Hugging Face Tools support text `I/O` and are loaded using the `load_huggingface_tool` function.\n",
    "  * `pip install transformers huggingface_hub`\n",
    "  * from langchain.agents import `load_huggingface_tool`"
   ]
  }
 ],
 "metadata": {
  "kernelspec": {
   "display_name": "langchain",
   "language": "python",
   "name": "langchain"
  },
  "language_info": {
   "codemirror_mode": {
    "name": "ipython",
    "version": 3
   },
   "file_extension": ".py",
   "mimetype": "text/x-python",
   "name": "python",
   "nbconvert_exporter": "python",
   "pygments_lexer": "ipython3",
   "version": "3.10.9"
  }
 },
 "nbformat": 4,
 "nbformat_minor": 5
}
