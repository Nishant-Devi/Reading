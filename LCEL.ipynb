{
 "cells": [
  {
   "cell_type": "code",
   "execution_count": 1,
   "id": "f5489be6-a58e-4a41-be64-c5b8fbc93ff3",
   "metadata": {},
   "outputs": [],
   "source": [
    "OPENAI_API_KEY =\"Your_api_key\""
   ]
  },
  {
   "cell_type": "code",
   "execution_count": 2,
   "id": "9cce8591-c5a0-486e-a1a5-b716a907d324",
   "metadata": {},
   "outputs": [],
   "source": [
    "from langchain_openai import ChatOpenAI\n",
    "from langchain_core.output_parsers import StrOutputParser\n",
    "\n",
    "\n",
    "model = ChatOpenAI(model=\"gpt-3.5-turbo\", openai_api_key= OPENAI_API_KEY)"
   ]
  },
  {
   "cell_type": "code",
   "execution_count": 3,
   "id": "f04fdce0-056b-461c-b569-f38c1a7a8c7e",
   "metadata": {},
   "outputs": [
    {
     "name": "stderr",
     "output_type": "stream",
     "text": [
      "C:\\Users\\nishant.gupta\\Desktop\\Langchain\\langchain\\lib\\site-packages\\langchain_core\\_api\\deprecation.py:119: LangChainDeprecationWarning: The class `LLMChain` was deprecated in LangChain 0.1.17 and will be removed in 0.3.0. Use RunnableSequence, e.g., `prompt | llm` instead.\n",
      "  warn_deprecated(\n"
     ]
    }
   ],
   "source": [
    "from langchain_core.prompts import ChatPromptTemplate\n",
    "\n",
    "prompt = ChatPromptTemplate.from_template(\n",
    "    \"Give me small report about {topic}\"\n",
    ")\n",
    "\n",
    "from langchain.chains import LLMChain\n",
    "chain = LLMChain(\n",
    "    prompt=prompt,\n",
    "    llm = model\n",
    ")"
   ]
  },
  {
   "cell_type": "code",
   "execution_count": 4,
   "id": "716e804e-0035-4581-974a-134fdf6980ad",
   "metadata": {},
   "outputs": [
    {
     "data": {
      "text/plain": [
       "ChatPromptValue(messages=[HumanMessage(content='Give me small report about Artificial Intelligence')])"
      ]
     },
     "execution_count": 4,
     "metadata": {},
     "output_type": "execute_result"
    }
   ],
   "source": [
    "prompt.invoke(\"Artificial Intelligence\")"
   ]
  },
  {
   "cell_type": "code",
   "execution_count": 9,
   "id": "95a02c94-ddbf-4816-acbd-c7df98a3809a",
   "metadata": {},
   "outputs": [
    {
     "data": {
      "text/plain": [
       "'Give me small report about Artificial Intelligence'"
      ]
     },
     "execution_count": 9,
     "metadata": {},
     "output_type": "execute_result"
    }
   ],
   "source": [
    "prompt.invoke(\"Artificial Intelligence\").messages[0].content"
   ]
  },
  {
   "cell_type": "code",
   "execution_count": 10,
   "id": "8db3abb3-1988-4dcf-aae0-f730d6749e62",
   "metadata": {},
   "outputs": [
    {
     "name": "stderr",
     "output_type": "stream",
     "text": [
      "C:\\Users\\nishant.gupta\\Desktop\\Langchain\\langchain\\lib\\site-packages\\langchain_core\\_api\\deprecation.py:119: LangChainDeprecationWarning: The method `Chain.run` was deprecated in langchain 0.1.0 and will be removed in 0.3.0. Use invoke instead.\n",
      "  warn_deprecated(\n"
     ]
    },
    {
     "name": "stdout",
     "output_type": "stream",
     "text": [
      "Artificial intelligence (AI) is a branch of computer science that focuses on creating machines that can perform tasks that typically require human intelligence, such as learning, reasoning, problem-solving, perception, and language understanding. AI technology has made significant advancements in recent years, leading to applications in various fields such as healthcare, finance, transportation, and entertainment.\n",
      "\n",
      "AI algorithms can process large amounts of data quickly and accurately, enabling businesses to make better decisions and improve efficiency. Machine learning, a subset of AI, allows machines to learn from data and make predictions without being explicitly programmed. Deep learning, a type of machine learning, uses artificial neural networks to model complex patterns in data, leading to breakthroughs in image and speech recognition, natural language processing, and autonomous vehicles.\n",
      "\n",
      "While AI has the potential to revolutionize industries and improve our daily lives, there are also concerns about its impact on jobs, privacy, and ethics. As AI continues to evolve, it is important for policymakers, researchers, and industry leaders to collaborate and ensure that AI technologies are developed and deployed responsibly to benefit society as a whole.\n"
     ]
    }
   ],
   "source": [
    "output = chain.run(\"Artificial Intelligence\")\n",
    "print(output)"
   ]
  },
  {
   "cell_type": "code",
   "execution_count": 11,
   "id": "bd46155c-bc0b-4240-9146-a4fd183416c1",
   "metadata": {},
   "outputs": [],
   "source": [
    "lcel_chain = prompt | model"
   ]
  },
  {
   "cell_type": "code",
   "execution_count": 12,
   "id": "80781929-3752-4278-92f3-48806b8e085f",
   "metadata": {},
   "outputs": [
    {
     "data": {
      "text/plain": [
       "AIMessage(content='Artificial intelligence (AI) is a rapidly advancing field of technology that involves the development of computer systems capable of performing tasks that typically require human intelligence, such as visual perception, speech recognition, decision-making, and language translation. AI algorithms are designed to learn from data and improve over time, making them increasingly sophisticated and capable of handling complex tasks.\\n\\nAI is being used in a wide range of industries, including healthcare, finance, transportation, and manufacturing, to automate processes, improve efficiency, and enhance decision-making. In healthcare, for example, AI is being used to analyze medical images, predict patient outcomes, and personalize treatment plans. In finance, AI algorithms are being used to detect fraud, optimize investment strategies, and improve customer service.\\n\\nDespite its many benefits, AI also raises ethical and societal concerns, such as job displacement, algorithmic bias, and privacy issues. As AI technology continues to advance, it is important for policymakers, researchers, and industry leaders to address these challenges and ensure that AI is developed and deployed responsibly.', response_metadata={'token_usage': {'completion_tokens': 205, 'prompt_tokens': 14, 'total_tokens': 219}, 'model_name': 'gpt-3.5-turbo', 'system_fingerprint': None, 'finish_reason': 'stop', 'logprobs': None}, id='run-65b4d470-8fb8-45d3-b7ea-34a8bc836a75-0')"
      ]
     },
     "execution_count": 12,
     "metadata": {},
     "output_type": "execute_result"
    }
   ],
   "source": [
    "lcel_chain.invoke(\"Artificial intelligence\")"
   ]
  },
  {
   "cell_type": "code",
   "execution_count": 13,
   "id": "656460d7-07d6-4799-8616-49ff224ed778",
   "metadata": {},
   "outputs": [
    {
     "data": {
      "text/plain": [
       "'Artificial Intelligence (AI) is a rapidly advancing technology that enables machines to perform tasks that typically require human intelligence, such as problem-solving, learning, and decision-making. AI systems are designed to replicate human cognitive functions, such as understanding language, recognizing patterns, and making predictions.\\n\\nAI has a wide range of applications across various industries, including healthcare, finance, transportation, and entertainment. Some common examples of AI technology include virtual assistants like Siri and Alexa, self-driving cars, and recommendation algorithms used by streaming services and e-commerce websites.\\n\\nWhile AI has the potential to revolutionize our daily lives and improve efficiency in many areas, there are also concerns about its impact on the workforce, privacy, and ethics. As AI continues to evolve and become more integrated into society, it is important for policymakers, researchers, and industry leaders to address these challenges and ensure that AI is used responsibly and ethically.'"
      ]
     },
     "execution_count": 13,
     "metadata": {},
     "output_type": "execute_result"
    }
   ],
   "source": [
    "lcel_chain.invoke(\"Artificial Intelligence\").content"
   ]
  },
  {
   "cell_type": "code",
   "execution_count": 16,
   "id": "0d0d9874-f390-4572-8f63-07b388ebed12",
   "metadata": {},
   "outputs": [
    {
     "data": {
      "text/plain": [
       "238"
      ]
     },
     "execution_count": 16,
     "metadata": {},
     "output_type": "execute_result"
    }
   ],
   "source": [
    "lcel_chain.invoke(\"Artificial Intelligence\").response_metadata['token_usage']['total_tokens']"
   ]
  },
  {
   "cell_type": "code",
   "execution_count": 20,
   "id": "6956b42b-df6f-4f9b-bf29-490061a2bed8",
   "metadata": {},
   "outputs": [],
   "source": [
    "parser = StrOutputParser()"
   ]
  },
  {
   "cell_type": "code",
   "execution_count": 21,
   "id": "f357c9bd-d1a5-4dba-85de-c961890a1a2d",
   "metadata": {},
   "outputs": [],
   "source": [
    "lcel_chain = prompt | model | parser"
   ]
  },
  {
   "cell_type": "code",
   "execution_count": 22,
   "id": "acba11fa-8153-4166-8c64-c96cc1f491a3",
   "metadata": {},
   "outputs": [
    {
     "data": {
      "text/plain": [
       "'Artificial intelligence (AI) is a rapidly advancing field of computer science that aims to create machines that can perform tasks that typically require human intelligence, such as learning, reasoning, problem-solving, and recognizing speech and images. AI systems can be trained to adapt and improve their performance over time, making them increasingly capable of completing complex tasks.\\n\\nAI technology is already being used in a wide range of industries, including healthcare, finance, transportation, and marketing. For example, AI-powered chatbots are being used to provide customer service, AI algorithms are being used to analyze medical images for early detection of diseases, and AI systems are being used to optimize traffic flow in smart cities.\\n\\nWhile AI has the potential to revolutionize many aspects of our lives and improve efficiency and productivity, it also raises ethical and societal concerns. There are concerns about the impact of AI on jobs, privacy, and security, as well as the potential for bias and discrimination in AI algorithms.\\n\\nOverall, artificial intelligence is a powerful and transformative technology that has the potential to shape the future in profound ways. It is important for researchers, policymakers, and the public to engage in discussions about the ethical and social implications of AI to ensure that it is developed and deployed responsibly.'"
      ]
     },
     "execution_count": 22,
     "metadata": {},
     "output_type": "execute_result"
    }
   ],
   "source": [
    "lcel_chain.invoke({\"topic\": \"artificial intelligence\"})"
   ]
  },
  {
   "cell_type": "markdown",
   "id": "dc87adc8-2cb7-48f2-a4fa-55797c8de969",
   "metadata": {},
   "source": [
    "#### Build a Simple LLM Application with LCEL\n",
    "\n",
    "This application will translate text from English into another language. "
   ]
  },
  {
   "cell_type": "code",
   "execution_count": 23,
   "id": "4a5f3dc2-068c-4e36-9d77-56d404cc0b7d",
   "metadata": {},
   "outputs": [],
   "source": [
    "from langchain_openai import ChatOpenAI\n",
    "\n",
    "model = ChatOpenAI(model=\"gpt-3.5-turbo\", openai_api_key = OPENAI_API_KEY)"
   ]
  },
  {
   "cell_type": "markdown",
   "id": "e7fff00f-c396-43a0-8f35-b062d35dcfde",
   "metadata": {},
   "source": [
    "* ChatModels are instances of LangChain \"Runnables\", which means they expose a standard interface for interacting with them.\n",
    "* To just simply call the model, we can pass in a list of messages to the `.invoke` method."
   ]
  },
  {
   "cell_type": "code",
   "execution_count": 24,
   "id": "766287df-2357-4511-bb09-0c857b6eb61b",
   "metadata": {},
   "outputs": [],
   "source": [
    "from langchain_core.messages import HumanMessage, SystemMessage\n",
    "\n",
    "messages = [\n",
    "    SystemMessage(content=\"Translate the following from English into Italian\"),\n",
    "    HumanMessage(content=\"hi!\"),\n",
    "]\n",
    "\n",
    "output = model.invoke(messages)"
   ]
  },
  {
   "cell_type": "code",
   "execution_count": 25,
   "id": "1801c365-ecb0-4107-bca1-8ecb6817307d",
   "metadata": {},
   "outputs": [
    {
     "data": {
      "text/plain": [
       "AIMessage(content='Ciao!', response_metadata={'token_usage': {'completion_tokens': 3, 'prompt_tokens': 20, 'total_tokens': 23}, 'model_name': 'gpt-3.5-turbo', 'system_fingerprint': None, 'finish_reason': 'stop', 'logprobs': None}, id='run-a806912c-3a3f-4f07-9b6c-b87be4da3ad0-0')"
      ]
     },
     "execution_count": 25,
     "metadata": {},
     "output_type": "execute_result"
    }
   ],
   "source": [
    "output"
   ]
  },
  {
   "cell_type": "markdown",
   "id": "9cefeca4-54a4-4a24-be4c-55d535c94f27",
   "metadata": {},
   "source": [
    "OutputParsers\n",
    " * Notice that the response from the model is an AIMessage. This contains a string response along with other metadata about the response. Oftentimes we may just want to work with the string response. We can parse out just this response by using a simple output parser."
   ]
  },
  {
   "cell_type": "code",
   "execution_count": 27,
   "id": "99c2aa48-1ae8-4387-a0d6-66cbd4d8088f",
   "metadata": {},
   "outputs": [],
   "source": [
    "from langchain_core.output_parsers import StrOutputParser\n",
    "\n",
    "parser = StrOutputParser()"
   ]
  },
  {
   "cell_type": "code",
   "execution_count": 28,
   "id": "8a3cf72f-01b9-46f4-962b-0f6816b4fdf2",
   "metadata": {},
   "outputs": [
    {
     "data": {
      "text/plain": [
       "'Ciao!'"
      ]
     },
     "execution_count": 28,
     "metadata": {},
     "output_type": "execute_result"
    }
   ],
   "source": [
    "parser.invoke(output)"
   ]
  },
  {
   "cell_type": "markdown",
   "id": "04a8089e-0c9b-4431-b760-bd8b3130bdb8",
   "metadata": {},
   "source": [
    "* More commonly, we can \"chain\" the model with this output parser.\n",
    "* We can easily create the chain using the | operator. The | operator is used in LangChain to combine two elements together."
   ]
  },
  {
   "cell_type": "code",
   "execution_count": 29,
   "id": "a3876e24-d6aa-4743-a72f-c715e2d5f0fe",
   "metadata": {},
   "outputs": [],
   "source": [
    "chain = model | parser\n",
    "result = chain.invoke(messages)"
   ]
  },
  {
   "cell_type": "code",
   "execution_count": 30,
   "id": "ff846a3b-7ba9-4808-b5e6-9bc8bab9515b",
   "metadata": {},
   "outputs": [
    {
     "data": {
      "text/plain": [
       "'Ciao!'"
      ]
     },
     "execution_count": 30,
     "metadata": {},
     "output_type": "execute_result"
    }
   ],
   "source": [
    "result"
   ]
  },
  {
   "cell_type": "markdown",
   "id": "e82ac947-af5a-4a6d-913f-1dd43a53934a",
   "metadata": {},
   "source": [
    "Prompt Templates\n",
    "* This application logic usually takes the raw user input and transforms it into a list of messages ready to pass to the language model.\n",
    "* Common transformations include adding a system message or formatting a template with the user input.\n",
    "* PromptTemplates are a concept in LangChain designed to assist with this transformation. They take in raw user input and return data (a prompt) that is ready to pass into a language model."
   ]
  },
  {
   "cell_type": "code",
   "execution_count": 32,
   "id": "a6632f43-6bf4-4a0b-a9ee-1e6df16786c5",
   "metadata": {},
   "outputs": [],
   "source": [
    "from langchain_core.prompts import ChatPromptTemplate\n",
    "\n",
    "system_template = \"Translate the following into {language}:\"\n",
    "\n",
    "prompt_template = ChatPromptTemplate.from_messages(\n",
    "    [(\"system\", system_template), (\"user\", \"{text}\")]\n",
    ")"
   ]
  },
  {
   "cell_type": "code",
   "execution_count": 33,
   "id": "442409da-4b3d-47da-807f-b7fa09c58638",
   "metadata": {},
   "outputs": [
    {
     "data": {
      "text/plain": [
       "ChatPromptValue(messages=[SystemMessage(content='Translate the following into italian:'), HumanMessage(content='hi')])"
      ]
     },
     "execution_count": 33,
     "metadata": {},
     "output_type": "execute_result"
    }
   ],
   "source": [
    "# The input to this prompt template is a dictionary. \n",
    "result = prompt_template.invoke({\"language\": \"italian\", \"text\": \"hi\"})\n",
    "\n",
    "result"
   ]
  },
  {
   "cell_type": "code",
   "execution_count": 39,
   "id": "f68d1864-bd1f-4e4b-b5ee-b8c38f71f3df",
   "metadata": {},
   "outputs": [
    {
     "data": {
      "text/plain": [
       "[SystemMessage(content='Translate the following into italian:'),\n",
       " HumanMessage(content='hi')]"
      ]
     },
     "execution_count": 39,
     "metadata": {},
     "output_type": "execute_result"
    }
   ],
   "source": [
    "result.messages"
   ]
  },
  {
   "cell_type": "code",
   "execution_count": 34,
   "id": "81a91da6-83ed-4cf4-9b3f-862632008c24",
   "metadata": {},
   "outputs": [
    {
     "data": {
      "text/plain": [
       "[SystemMessage(content='Translate the following into italian:'),\n",
       " HumanMessage(content='hi')]"
      ]
     },
     "execution_count": 34,
     "metadata": {},
     "output_type": "execute_result"
    }
   ],
   "source": [
    "# If we want to access the messages directly we do:\n",
    "result.to_messages()"
   ]
  },
  {
   "cell_type": "code",
   "execution_count": 35,
   "id": "a0a41388-4af2-46a3-a4a6-cafbfe0d65d0",
   "metadata": {},
   "outputs": [],
   "source": [
    "# Chaining together components with LCEL:\n",
    "chain = prompt_template | model | parser\n",
    "\n",
    "out = chain.invoke({\"language\": \"italian\", \"text\": \"hi\"})"
   ]
  },
  {
   "cell_type": "code",
   "execution_count": 36,
   "id": "638f4112-d873-49bc-ac1a-9208df65dbc2",
   "metadata": {},
   "outputs": [
    {
     "data": {
      "text/plain": [
       "'Ciao'"
      ]
     },
     "execution_count": 36,
     "metadata": {},
     "output_type": "execute_result"
    }
   ],
   "source": [
    "out"
   ]
  },
  {
   "cell_type": "markdown",
   "id": "c1c0396b-8f1f-46ae-88da-52ab3c768642",
   "metadata": {},
   "source": [
    "Serving with LangServe\n",
    "* LangServe helps developers deploy LangChain chains as a REST API.\n",
    "* pip install \"langserve[all]\""
   ]
  },
  {
   "cell_type": "markdown",
   "id": "99ca9631-7a4b-481d-8fd3-521bc782ed1b",
   "metadata": {},
   "source": [
    "* To create a server for our application we'll make a lcel.py file\n",
    "* It consists of three things:\n",
    "  * The definition of our chain that we just built above\n",
    "  * Our FastAPI app\n",
    "  * A definition of a route from which to serve the chain, which is done with `langserve.add_routes`"
   ]
  },
  {
   "cell_type": "markdown",
   "id": "8e00bcec-f6b6-4222-9a14-df09e3d93a2a",
   "metadata": {},
   "source": [
    "playground\n",
    "* Head to http://localhost:8000/chain/playground/ to try it out!"
   ]
  },
  {
   "cell_type": "markdown",
   "id": "40667ab1-b620-4bdc-b923-d77a601d0997",
   "metadata": {},
   "source": [
    "Client\n",
    "* Now let's set up a client for programmatically interacting with our service. We can easily do this with the [langserve.RemoteRunnable](/docs/langserve/#client). Using this, we can interact with the served chain as if it were running client-side."
   ]
  },
  {
   "cell_type": "code",
   "execution_count": 38,
   "id": "5c03f801-fe13-42cd-a7e6-71ef9a69fac0",
   "metadata": {},
   "outputs": [
    {
     "data": {
      "text/plain": [
       "'Ciao'"
      ]
     },
     "execution_count": 38,
     "metadata": {},
     "output_type": "execute_result"
    }
   ],
   "source": [
    "from langserve import RemoteRunnable\n",
    "\n",
    "remote_chain = RemoteRunnable(\"http://localhost:8000/chain/\")\n",
    "remote_chain.invoke({\"language\": \"italian\", \"text\": \"hi\"})"
   ]
  },
  {
   "cell_type": "code",
   "execution_count": null,
   "id": "4937da50-b07c-498a-9989-ef650bdc8bee",
   "metadata": {},
   "outputs": [],
   "source": []
  }
 ],
 "metadata": {
  "kernelspec": {
   "display_name": "langchain",
   "language": "python",
   "name": "langchain"
  },
  "language_info": {
   "codemirror_mode": {
    "name": "ipython",
    "version": 3
   },
   "file_extension": ".py",
   "mimetype": "text/x-python",
   "name": "python",
   "nbconvert_exporter": "python",
   "pygments_lexer": "ipython3",
   "version": "3.10.9"
  }
 },
 "nbformat": 4,
 "nbformat_minor": 5
}
